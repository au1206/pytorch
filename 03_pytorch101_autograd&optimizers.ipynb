{
 "cells": [
  {
   "cell_type": "code",
   "execution_count": 4,
   "id": "96a9e56a-be3f-457b-bdbe-75d25a83d597",
   "metadata": {},
   "outputs": [],
   "source": [
    "import torch"
   ]
  },
  {
   "cell_type": "markdown",
   "id": "f33abfb3-7d13-4ee0-8c84-414f437bdd14",
   "metadata": {},
   "source": [
    "<img src='assets/pytorch101_5.1.png' width='750'>"
   ]
  },
  {
   "cell_type": "markdown",
   "id": "d5c2cd2b-6b29-4837-aa75-3d0658fea6ec",
   "metadata": {},
   "source": [
    "## Linear Regression"
   ]
  },
  {
   "cell_type": "code",
   "execution_count": 65,
   "id": "f9bd5b57-e11e-4a2b-8f78-9def1cee7d94",
   "metadata": {},
   "outputs": [],
   "source": [
    "# data points: t_u  labels: t_c\n",
    "t_c = [0.5,  14.0, 15.0, 28.0, 11.0,  8.0,  3.0, -4.0,  6.0, 13.0, 21.0]\n",
    "t_u = [35.7, 55.9, 58.2, 81.9, 56.3, 48.9, 33.9, 21.8, 48.4, 60.4, 68.4]"
   ]
  },
  {
   "cell_type": "code",
   "execution_count": 66,
   "id": "50e139b6-9abb-46cd-ad6e-64e3c362c0b6",
   "metadata": {},
   "outputs": [],
   "source": [
    "t_c = torch.tensor(t_c)\n",
    "t_u = torch.tensor(t_u)"
   ]
  },
  {
   "cell_type": "markdown",
   "id": "cbf548f6-e87f-4d0c-8e51-8396e114becb",
   "metadata": {},
   "source": [
    "Linear approximation :\n",
    "`t_c = w * t_u + b`"
   ]
  },
  {
   "cell_type": "code",
   "execution_count": 27,
   "id": "ff9e29c0-3b7f-4dec-899b-d328163f3eb1",
   "metadata": {},
   "outputs": [],
   "source": [
    "def model(t_u, w,b):\n",
    "    return w*t_u+b\n",
    "\n",
    "def loss_fn(t_c, t_p):\n",
    "    sq = (t_p-t_c)**2\n",
    "    return sq.mean()"
   ]
  },
  {
   "cell_type": "code",
   "execution_count": 14,
   "id": "a786b7e2-0417-41c2-b219-e9f6b572a65c",
   "metadata": {},
   "outputs": [],
   "source": [
    "# they will get broadcasted to the right shape\n",
    "w = torch.ones(())\n",
    "b = torch.zeros(())"
   ]
  },
  {
   "cell_type": "code",
   "execution_count": 15,
   "id": "58f48b30-23e3-4362-98f8-0b91a16a3e5e",
   "metadata": {},
   "outputs": [
    {
     "data": {
      "text/plain": [
       "tensor([35.7000, 55.9000, 58.2000, 81.9000, 56.3000, 48.9000, 33.9000, 21.8000,\n",
       "        48.4000, 60.4000, 68.4000])"
      ]
     },
     "execution_count": 15,
     "metadata": {},
     "output_type": "execute_result"
    }
   ],
   "source": [
    "t_p = model(t_u,w,b)\n",
    "t_p"
   ]
  },
  {
   "cell_type": "code",
   "execution_count": 16,
   "id": "74e45b8d-c48c-4140-9993-68c18e484ee9",
   "metadata": {},
   "outputs": [
    {
     "data": {
      "text/plain": [
       "tensor(1763.8848)"
      ]
     },
     "execution_count": 16,
     "metadata": {},
     "output_type": "execute_result"
    }
   ],
   "source": [
    "loss_fn(t_c, t_p)"
   ]
  },
  {
   "cell_type": "markdown",
   "id": "b1113ea1-533d-4673-a366-e00b01e0a7a8",
   "metadata": {},
   "source": [
    "## Broadcasting\n",
    "It uses the following rules to match tensor elements:\n",
    "- For each index dimension, counted from the back, if one of the operands is size 1 in that dimension, PyTorch will use the single entry along this dimension with each of the entries in the other tensor along this dimension.\n",
    "- If both sizes are greater than 1, they must be the same, and natural matching is used.\n",
    "- If one of the tensors has more index dimensions than the other, the entirety of the other tensor will be used for each entry along these dimensions.\n",
    "\n",
    "\n",
    "<img src='assets/pytorch101_5.2.png' width='750'>\n"
   ]
  },
  {
   "cell_type": "markdown",
   "id": "a9daf979-8e1a-40a8-b677-2bd3cec8d03d",
   "metadata": {},
   "source": [
    "## Gradient Descent\n",
    "<img src='assets/pytorch101_5.3.png' width='750'>"
   ]
  },
  {
   "cell_type": "code",
   "execution_count": 28,
   "id": "e8d7ab68-405f-4f01-a8f1-0c54d70cbf16",
   "metadata": {},
   "outputs": [],
   "source": [
    "def grads(t_u, t_c, t_p, w, b):\n",
    "    # dl/dw = 2*(t_p - t_c) * t_p/dw = 2*(t_p - t_c)* (w*t_u+b)/dw = 2*(t_p - t_c) * t_u\n",
    "    # dl_db = 2*(t_p - t_c) * t_p/db = 2*(t_p - t_c) * 1\n",
    "    \n",
    "    dloss_dw = (2*(t_p-t_c)/t_p.size(0)) * t_u\n",
    "    dloss_db = (2*(t_p-t_c)/t_p.size(0)) * 1\n",
    "    return torch.stack([dloss_dw.sum(), dloss_db.sum()])"
   ]
  },
  {
   "cell_type": "code",
   "execution_count": 19,
   "id": "18124e12-da8b-4507-9205-fa25bf226589",
   "metadata": {},
   "outputs": [
    {
     "name": "stdout",
     "output_type": "stream",
     "text": [
      "Help on built-in function sum:\n",
      "\n",
      "sum(...)\n",
      "    sum(input, *, dtype=None) -> Tensor\n",
      "    \n",
      "    Returns the sum of all elements in the :attr:`input` tensor.\n",
      "    \n",
      "    Args:\n",
      "        input (Tensor): the input tensor.\n",
      "    \n",
      "    Keyword args:\n",
      "        dtype (:class:`torch.dtype`, optional): the desired data type of returned tensor.\n",
      "            If specified, the input tensor is casted to :attr:`dtype` before the operation\n",
      "            is performed. This is useful for preventing data type overflows. Default: None.\n",
      "    \n",
      "    Example::\n",
      "    \n",
      "        >>> a = torch.randn(1, 3)\n",
      "        >>> a\n",
      "        tensor([[ 0.1133, -0.9567,  0.2958]])\n",
      "        >>> torch.sum(a)\n",
      "        tensor(-0.5475)\n",
      "    \n",
      "    .. function:: sum(input, dim, keepdim=False, *, dtype=None) -> Tensor\n",
      "    \n",
      "    Returns the sum of each row of the :attr:`input` tensor in the given\n",
      "    dimension :attr:`dim`. If :attr:`dim` is a list of dimensions,\n",
      "    reduce over all of them.\n",
      "    \n",
      "    \n",
      "    If :attr:`keepdim` is ``True``, the output tensor is of the same size\n",
      "    as :attr:`input` except in the dimension(s) :attr:`dim` where it is of size 1.\n",
      "    Otherwise, :attr:`dim` is squeezed (see :func:`torch.squeeze`), resulting in the\n",
      "    output tensor having 1 (or ``len(dim)``) fewer dimension(s).\n",
      "    \n",
      "    \n",
      "    Args:\n",
      "        input (Tensor): the input tensor.\n",
      "        dim (int or tuple of ints): the dimension or dimensions to reduce.\n",
      "        keepdim (bool): whether the output tensor has :attr:`dim` retained or not.\n",
      "    \n",
      "    Keyword args:\n",
      "        dtype (:class:`torch.dtype`, optional): the desired data type of returned tensor.\n",
      "            If specified, the input tensor is casted to :attr:`dtype` before the operation\n",
      "            is performed. This is useful for preventing data type overflows. Default: None.\n",
      "    \n",
      "    Example::\n",
      "    \n",
      "        >>> a = torch.randn(4, 4)\n",
      "        >>> a\n",
      "        tensor([[ 0.0569, -0.2475,  0.0737, -0.3429],\n",
      "                [-0.2993,  0.9138,  0.9337, -1.6864],\n",
      "                [ 0.1132,  0.7892, -0.1003,  0.5688],\n",
      "                [ 0.3637, -0.9906, -0.4752, -1.5197]])\n",
      "        >>> torch.sum(a, 1)\n",
      "        tensor([-0.4598, -0.1381,  1.3708, -2.6217])\n",
      "        >>> b = torch.arange(4 * 5 * 6).view(4, 5, 6)\n",
      "        >>> torch.sum(b, (2, 1))\n",
      "        tensor([  435.,  1335.,  2235.,  3135.])\n",
      "\n"
     ]
    }
   ],
   "source": [
    "help(torch.sum)"
   ]
  },
  {
   "cell_type": "code",
   "execution_count": 54,
   "id": "e66094e3-a5f1-4b76-a244-e06d2b0a0f9b",
   "metadata": {},
   "outputs": [],
   "source": [
    "def training_loop(epochs, lr, params, t_u, t_c):\n",
    "    for i in range(1, epochs+1):\n",
    "        w,b = params\n",
    "        t_p = model(t_u, w, b)\n",
    "        loss = loss_fn(t_p, t_c)\n",
    "        grad = grads(t_u, t_c, t_p, w, b)\n",
    "        params = params - lr*grad\n",
    "        if i%500 ==0:\n",
    "            print('Epoch %d, Loss %f' % (i, float(loss)))\n",
    "            print(params)\n",
    "        \n",
    "    return params"
   ]
  },
  {
   "cell_type": "code",
   "execution_count": 38,
   "id": "0c5f78e8-6614-4132-81de-819d11dca42e",
   "metadata": {},
   "outputs": [
    {
     "name": "stdout",
     "output_type": "stream",
     "text": [
      "Epoch 1, Loss 1763.884766\n",
      "tensor([-44.1730,  -0.8260])\n",
      "Epoch 2, Loss 5802484.500000\n",
      "tensor([2568.4011,   45.1637])\n",
      "Epoch 3, Loss 19408029696.000000\n",
      "tensor([-148527.7344,   -2616.3931])\n",
      "Epoch 4, Loss 64915905708032.000000\n",
      "tensor([8589999.0000,  151310.8906])\n",
      "Epoch 5, Loss 217130525461053440.000000\n",
      "tensor([-4.9680e+08, -8.7510e+06])\n",
      "Epoch 6, Loss 726257583152928129024.000000\n",
      "tensor([2.8732e+10, 5.0610e+08])\n",
      "Epoch 7, Loss 2429183416467662896627712.000000\n",
      "tensor([-1.6617e+12, -2.9270e+10])\n",
      "Epoch 8, Loss 8125122549611731432050262016.000000\n",
      "tensor([9.6102e+13, 1.6928e+12])\n",
      "Epoch 9, Loss 27176882120842590626938030653440.000000\n",
      "tensor([-5.5580e+15, -9.7903e+13])\n",
      "Epoch 10, Loss 90901105189019073810297959556841472.000000\n",
      "tensor([3.2144e+17, 5.6621e+15])\n"
     ]
    },
    {
     "data": {
      "text/plain": [
       "tensor([3.2144e+17, 5.6621e+15])"
      ]
     },
     "execution_count": 38,
     "metadata": {},
     "output_type": "execute_result"
    }
   ],
   "source": [
    "training_loop(10, 0.01, torch.tensor([1.0, 0.0]), t_u, t_c)"
   ]
  },
  {
   "cell_type": "markdown",
   "id": "82cc621c-ac41-4a4e-8e6b-d11dc4d7afb7",
   "metadata": {},
   "source": [
    "**Problems with a large learning rate**\n",
    "<img src='assets/pytorch101_5.4.png' width='750'>\n",
    "\n",
    "This can be taken care of by making the learning rate smaller"
   ]
  },
  {
   "cell_type": "code",
   "execution_count": 40,
   "id": "52cef0eb-7ff2-4c70-9491-5d3028be4940",
   "metadata": {},
   "outputs": [
    {
     "name": "stdout",
     "output_type": "stream",
     "text": [
      "Epoch 1, Loss 1763.884766\n",
      "tensor([ 9.5483e-01, -8.2600e-04])\n",
      "Epoch 2, Loss 1565.761353\n",
      "tensor([ 0.9123, -0.0016])\n",
      "Epoch 3, Loss 1390.265503\n",
      "tensor([ 0.8723, -0.0023])\n",
      "Epoch 4, Loss 1234.812378\n",
      "tensor([ 0.8346, -0.0030])\n",
      "Epoch 5, Loss 1097.112793\n",
      "tensor([ 0.7992, -0.0037])\n",
      "Epoch 6, Loss 975.139709\n",
      "tensor([ 0.7658, -0.0043])\n",
      "Epoch 7, Loss 867.096741\n",
      "tensor([ 0.7344, -0.0049])\n",
      "Epoch 8, Loss 771.393005\n",
      "tensor([ 0.7049, -0.0054])\n",
      "Epoch 9, Loss 686.619385\n",
      "tensor([ 0.6771, -0.0060])\n",
      "Epoch 10, Loss 611.527405\n",
      "tensor([ 0.6509, -0.0065])\n",
      "Epoch 11, Loss 545.011597\n",
      "tensor([ 0.6263, -0.0069])\n",
      "Epoch 12, Loss 486.092102\n",
      "tensor([ 0.6031, -0.0074])\n",
      "Epoch 13, Loss 433.901764\n",
      "tensor([ 0.5813, -0.0078])\n",
      "Epoch 14, Loss 387.671875\n",
      "tensor([ 0.5607, -0.0082])\n",
      "Epoch 15, Loss 346.721710\n",
      "tensor([ 0.5414, -0.0085])\n",
      "Epoch 16, Loss 310.448425\n",
      "tensor([ 0.5232, -0.0089])\n",
      "Epoch 17, Loss 278.317719\n",
      "tensor([ 0.5061, -0.0092])\n",
      "Epoch 18, Loss 249.856598\n",
      "tensor([ 0.4900, -0.0095])\n",
      "Epoch 19, Loss 224.645859\n",
      "tensor([ 0.4748, -0.0098])\n",
      "Epoch 20, Loss 202.314407\n",
      "tensor([ 0.4605, -0.0101])\n",
      "Epoch 21, Loss 182.533356\n",
      "tensor([ 0.4471, -0.0104])\n",
      "Epoch 22, Loss 165.011398\n",
      "tensor([ 0.4345, -0.0106])\n",
      "Epoch 23, Loss 149.490631\n",
      "tensor([ 0.4226, -0.0109])\n",
      "Epoch 24, Loss 135.742371\n",
      "tensor([ 0.4114, -0.0111])\n",
      "Epoch 25, Loss 123.564278\n",
      "tensor([ 0.4008, -0.0113])\n",
      "Epoch 26, Loss 112.776932\n",
      "tensor([ 0.3909, -0.0115])\n",
      "Epoch 27, Loss 103.221649\n",
      "tensor([ 0.3816, -0.0117])\n",
      "Epoch 28, Loss 94.757591\n",
      "tensor([ 0.3728, -0.0119])\n",
      "Epoch 29, Loss 87.260178\n",
      "tensor([ 0.3645, -0.0121])\n",
      "Epoch 30, Loss 80.619034\n",
      "tensor([ 0.3567, -0.0122])\n",
      "Epoch 31, Loss 74.736320\n",
      "tensor([ 0.3494, -0.0124])\n",
      "Epoch 32, Loss 69.525452\n",
      "tensor([ 0.3425, -0.0126])\n",
      "Epoch 33, Loss 64.909691\n",
      "tensor([ 0.3360, -0.0127])\n",
      "Epoch 34, Loss 60.821049\n",
      "tensor([ 0.3299, -0.0128])\n",
      "Epoch 35, Loss 57.199379\n",
      "tensor([ 0.3242, -0.0130])\n",
      "Epoch 36, Loss 53.991299\n",
      "tensor([ 0.3188, -0.0131])\n",
      "Epoch 37, Loss 51.149609\n",
      "tensor([ 0.3137, -0.0132])\n",
      "Epoch 38, Loss 48.632435\n",
      "tensor([ 0.3089, -0.0133])\n",
      "Epoch 39, Loss 46.402737\n",
      "tensor([ 0.3044, -0.0134])\n",
      "Epoch 40, Loss 44.427666\n",
      "tensor([ 0.3001, -0.0135])\n",
      "Epoch 41, Loss 42.678158\n",
      "tensor([ 0.2961, -0.0136])\n",
      "Epoch 42, Loss 41.128445\n",
      "tensor([ 0.2924, -0.0137])\n",
      "Epoch 43, Loss 39.755707\n",
      "tensor([ 0.2888, -0.0138])\n",
      "Epoch 44, Loss 38.539734\n",
      "tensor([ 0.2855, -0.0139])\n",
      "Epoch 45, Loss 37.462631\n",
      "tensor([ 0.2824, -0.0140])\n",
      "Epoch 46, Loss 36.508522\n",
      "tensor([ 0.2794, -0.0141])\n",
      "Epoch 47, Loss 35.663372\n",
      "tensor([ 0.2766, -0.0142])\n",
      "Epoch 48, Loss 34.914734\n",
      "tensor([ 0.2740, -0.0142])\n",
      "Epoch 49, Loss 34.251587\n",
      "tensor([ 0.2716, -0.0143])\n",
      "Epoch 50, Loss 33.664169\n",
      "tensor([ 0.2692, -0.0144])\n",
      "Epoch 51, Loss 33.143826\n",
      "tensor([ 0.2671, -0.0145])\n",
      "Epoch 52, Loss 32.682896\n",
      "tensor([ 0.2650, -0.0145])\n",
      "Epoch 53, Loss 32.274593\n",
      "tensor([ 0.2631, -0.0146])\n",
      "Epoch 54, Loss 31.912916\n",
      "tensor([ 0.2613, -0.0146])\n",
      "Epoch 55, Loss 31.592529\n",
      "tensor([ 0.2596, -0.0147])\n",
      "Epoch 56, Loss 31.308729\n",
      "tensor([ 0.2580, -0.0148])\n",
      "Epoch 57, Loss 31.057329\n",
      "tensor([ 0.2564, -0.0148])\n",
      "Epoch 58, Loss 30.834631\n",
      "tensor([ 0.2550, -0.0149])\n",
      "Epoch 59, Loss 30.637358\n",
      "tensor([ 0.2537, -0.0149])\n",
      "Epoch 60, Loss 30.462597\n",
      "tensor([ 0.2524, -0.0150])\n",
      "Epoch 61, Loss 30.307789\n",
      "tensor([ 0.2512, -0.0150])\n",
      "Epoch 62, Loss 30.170654\n",
      "tensor([ 0.2501, -0.0151])\n",
      "Epoch 63, Loss 30.049162\n",
      "tensor([ 0.2491, -0.0151])\n",
      "Epoch 64, Loss 29.941536\n",
      "tensor([ 0.2481, -0.0152])\n",
      "Epoch 65, Loss 29.846193\n",
      "tensor([ 0.2471, -0.0152])\n",
      "Epoch 66, Loss 29.761732\n",
      "tensor([ 0.2463, -0.0153])\n",
      "Epoch 67, Loss 29.686907\n",
      "tensor([ 0.2454, -0.0153])\n",
      "Epoch 68, Loss 29.620611\n",
      "tensor([ 0.2447, -0.0154])\n",
      "Epoch 69, Loss 29.561878\n",
      "tensor([ 0.2439, -0.0154])\n",
      "Epoch 70, Loss 29.509846\n",
      "tensor([ 0.2432, -0.0155])\n",
      "Epoch 71, Loss 29.463743\n",
      "tensor([ 0.2426, -0.0155])\n",
      "Epoch 72, Loss 29.422899\n",
      "tensor([ 0.2420, -0.0155])\n",
      "Epoch 73, Loss 29.386707\n",
      "tensor([ 0.2414, -0.0156])\n",
      "Epoch 74, Loss 29.354631\n",
      "tensor([ 0.2409, -0.0156])\n",
      "Epoch 75, Loss 29.326220\n",
      "tensor([ 0.2404, -0.0157])\n",
      "Epoch 76, Loss 29.301031\n",
      "tensor([ 0.2399, -0.0157])\n",
      "Epoch 77, Loss 29.278717\n",
      "tensor([ 0.2394, -0.0157])\n",
      "Epoch 78, Loss 29.258936\n",
      "tensor([ 0.2390, -0.0158])\n",
      "Epoch 79, Loss 29.241405\n",
      "tensor([ 0.2386, -0.0158])\n",
      "Epoch 80, Loss 29.225863\n",
      "tensor([ 0.2382, -0.0158])\n",
      "Epoch 81, Loss 29.212090\n",
      "tensor([ 0.2379, -0.0159])\n",
      "Epoch 82, Loss 29.199877\n",
      "tensor([ 0.2376, -0.0159])\n",
      "Epoch 83, Loss 29.189049\n",
      "tensor([ 0.2372, -0.0159])\n",
      "Epoch 84, Loss 29.179455\n",
      "tensor([ 0.2369, -0.0160])\n",
      "Epoch 85, Loss 29.170937\n",
      "tensor([ 0.2367, -0.0160])\n",
      "Epoch 86, Loss 29.163383\n",
      "tensor([ 0.2364, -0.0161])\n",
      "Epoch 87, Loss 29.156677\n",
      "tensor([ 0.2362, -0.0161])\n",
      "Epoch 88, Loss 29.150734\n",
      "tensor([ 0.2359, -0.0161])\n",
      "Epoch 89, Loss 29.145458\n",
      "tensor([ 0.2357, -0.0162])\n",
      "Epoch 90, Loss 29.140766\n",
      "tensor([ 0.2355, -0.0162])\n",
      "Epoch 91, Loss 29.136608\n",
      "tensor([ 0.2353, -0.0162])\n",
      "Epoch 92, Loss 29.132912\n",
      "tensor([ 0.2351, -0.0163])\n",
      "Epoch 93, Loss 29.129627\n",
      "tensor([ 0.2350, -0.0163])\n",
      "Epoch 94, Loss 29.126709\n",
      "tensor([ 0.2348, -0.0163])\n",
      "Epoch 95, Loss 29.124109\n",
      "tensor([ 0.2347, -0.0164])\n",
      "Epoch 96, Loss 29.121801\n",
      "tensor([ 0.2345, -0.0164])\n",
      "Epoch 97, Loss 29.119745\n",
      "tensor([ 0.2344, -0.0164])\n",
      "Epoch 98, Loss 29.117912\n",
      "tensor([ 0.2343, -0.0165])\n",
      "Epoch 99, Loss 29.116278\n",
      "tensor([ 0.2341, -0.0165])\n",
      "Epoch 100, Loss 29.114819\n",
      "tensor([ 0.2340, -0.0165])\n"
     ]
    },
    {
     "data": {
      "text/plain": [
       "tensor([ 0.2340, -0.0165])"
      ]
     },
     "execution_count": 40,
     "metadata": {},
     "output_type": "execute_result"
    }
   ],
   "source": [
    "training_loop(100, 0.00001, torch.tensor([1.0, 0.0]), t_u, t_c)"
   ]
  },
  {
   "cell_type": "markdown",
   "id": "08eeb8ce-7234-4de0-a86f-5855ac6b3ae0",
   "metadata": {},
   "source": [
    "## Normalizing the data\n",
    "\n",
    "On observation, its clear the w and b are very very different making uniform gradient flow not so great. A simple trick would be to normalize the inputs"
   ]
  },
  {
   "cell_type": "code",
   "execution_count": 67,
   "id": "ab2d608a-9a80-4f19-b4d4-fcdcdfffaa31",
   "metadata": {},
   "outputs": [
    {
     "data": {
      "text/plain": [
       "tensor([35.7000, 55.9000, 58.2000, 81.9000, 56.3000, 48.9000, 33.9000, 21.8000,\n",
       "        48.4000, 60.4000, 68.4000])"
      ]
     },
     "execution_count": 67,
     "metadata": {},
     "output_type": "execute_result"
    }
   ],
   "source": [
    "t_u"
   ]
  },
  {
   "cell_type": "code",
   "execution_count": 42,
   "id": "5f4ea825-7db1-4c91-b489-3c387efbd492",
   "metadata": {},
   "outputs": [
    {
     "data": {
      "text/plain": [
       "tensor(81.9000)"
      ]
     },
     "execution_count": 42,
     "metadata": {},
     "output_type": "execute_result"
    }
   ],
   "source": [
    "max(t_u)"
   ]
  },
  {
   "cell_type": "code",
   "execution_count": 43,
   "id": "12054709-ebf4-4836-9287-24d314b567a0",
   "metadata": {},
   "outputs": [],
   "source": [
    "# t_u = t_u/max(t_u)"
   ]
  },
  {
   "cell_type": "code",
   "execution_count": 68,
   "id": "9c37b5cd-ee96-4eb6-bbf2-b84f1a32d908",
   "metadata": {},
   "outputs": [],
   "source": [
    "t_u = t_u * 0.1"
   ]
  },
  {
   "cell_type": "code",
   "execution_count": 70,
   "id": "b11aaffd-ef72-4a6f-a866-22f7d4765223",
   "metadata": {},
   "outputs": [
    {
     "data": {
      "text/plain": [
       "tensor([3.5700, 5.5900, 5.8200, 8.1900, 5.6300, 4.8900, 3.3900, 2.1800, 4.8400,\n",
       "        6.0400, 6.8400])"
      ]
     },
     "execution_count": 70,
     "metadata": {},
     "output_type": "execute_result"
    }
   ],
   "source": [
    "t_u"
   ]
  },
  {
   "cell_type": "code",
   "execution_count": 71,
   "id": "ea946472-bf94-4f9d-b492-5a0272f9ad7d",
   "metadata": {},
   "outputs": [
    {
     "name": "stdout",
     "output_type": "stream",
     "text": [
      "Epoch 500, Loss 7.860115\n",
      "tensor([ 4.0443, -9.8133])\n",
      "Epoch 1000, Loss 3.828538\n",
      "tensor([  4.8021, -14.1031])\n",
      "Epoch 1500, Loss 3.092191\n",
      "tensor([  5.1260, -15.9365])\n",
      "Epoch 2000, Loss 2.957698\n",
      "tensor([  5.2644, -16.7200])\n",
      "Epoch 2500, Loss 2.933134\n",
      "tensor([  5.3236, -17.0549])\n",
      "Epoch 3000, Loss 2.928648\n",
      "tensor([  5.3489, -17.1980])\n",
      "Epoch 3500, Loss 2.927830\n",
      "tensor([  5.3597, -17.2591])\n",
      "Epoch 4000, Loss 2.927680\n",
      "tensor([  5.3643, -17.2853])\n",
      "Epoch 4500, Loss 2.927651\n",
      "tensor([  5.3662, -17.2964])\n",
      "Epoch 5000, Loss 2.927648\n",
      "tensor([  5.3671, -17.3012])\n"
     ]
    }
   ],
   "source": [
    "params = training_loop(5000, 1e-2, torch.tensor([1.0, 0.0]), t_u, t_c)"
   ]
  },
  {
   "cell_type": "markdown",
   "id": "525f5c0c-da06-498f-97c8-a633984ae743",
   "metadata": {},
   "source": [
    "## Visualizations"
   ]
  },
  {
   "cell_type": "code",
   "execution_count": 72,
   "id": "88a3af99-c14c-4346-a2a8-25630e0b7f54",
   "metadata": {},
   "outputs": [
    {
     "data": {
      "text/plain": [
       "tensor([  5.3671, -17.3012])"
      ]
     },
     "execution_count": 72,
     "metadata": {},
     "output_type": "execute_result"
    }
   ],
   "source": [
    "params"
   ]
  },
  {
   "cell_type": "code",
   "execution_count": 73,
   "id": "dee3d3fd-10a9-4d84-9a35-c50dde36309d",
   "metadata": {},
   "outputs": [
    {
     "data": {
      "text/plain": [
       "[<matplotlib.lines.Line2D at 0x12e4af730>]"
      ]
     },
     "execution_count": 73,
     "metadata": {},
     "output_type": "execute_result"
    },
    {
     "data": {
      "image/png": "[encoded data removed]",
      "text/plain": [
       "<Figure size 3600x2400 with 1 Axes>"
      ]
     },
     "metadata": {
      "needs_background": "light"
     },
     "output_type": "display_data"
    }
   ],
   "source": [
    "%matplotlib inline\n",
    "from matplotlib import pyplot as plt\n",
    "\n",
    "t_p = model(t_u, *params)\n",
    "\n",
    "fig = plt.figure(dpi=600)\n",
    "plt.xlabel(\"Temperature (°Fahrenheit)\")\n",
    "plt.ylabel(\"Temperature (°Celsius)\")\n",
    "plt.plot(t_u.numpy(), t_p.detach().numpy())\n",
    "plt.plot(t_u.numpy(), t_c.numpy(), 'o')"
   ]
  },
  {
   "cell_type": "markdown",
   "id": "1b2eb284-6217-45ed-916c-8992028dce5a",
   "metadata": {},
   "source": [
    "*params means to pass the elements of params as individual arguments. In Python, this is usually done with lists or tuples, but we can also use argument unpacking with PyTorch tensors, which are split along the leading dimension. So here, model(t_u, *params) is equivalent to model(t_un, params[0], params[1])."
   ]
  },
  {
   "cell_type": "markdown",
   "id": "63e2b2f8-49ef-40c0-8a0e-7f6fceffbe3d",
   "metadata": {},
   "source": [
    "## Pytorch Autograd\n",
    "<img src='assets/pytorch101_5.5.png' width='750'>"
   ]
  },
  {
   "cell_type": "code",
   "execution_count": 75,
   "id": "64f2971b-8937-4369-bc01-ec4aa33a2204",
   "metadata": {},
   "outputs": [],
   "source": [
    "params = torch.tensor([1.0 ,0.0], requires_grad=True)\n"
   ]
  },
  {
   "cell_type": "code",
   "execution_count": 76,
   "id": "f6cae7b1-ff57-4a81-a978-55f41bd19e84",
   "metadata": {},
   "outputs": [],
   "source": [
    "loss = loss_fn(model(t_u, *params), t_c)"
   ]
  },
  {
   "cell_type": "code",
   "execution_count": 77,
   "id": "4a23bb7d-5ad4-48f2-ac7b-a5654da3a04e",
   "metadata": {},
   "outputs": [
    {
     "data": {
      "text/plain": [
       "tensor(80.3643, grad_fn=<MeanBackward0>)"
      ]
     },
     "execution_count": 77,
     "metadata": {},
     "output_type": "execute_result"
    }
   ],
   "source": [
    "loss"
   ]
  },
  {
   "cell_type": "code",
   "execution_count": 78,
   "id": "71a43d26-2c5a-4a09-9c0e-88ee4e0becdb",
   "metadata": {},
   "outputs": [],
   "source": [
    "loss.backward()"
   ]
  },
  {
   "cell_type": "code",
   "execution_count": 81,
   "id": "192ef768-96b0-4e0c-9ea5-c5447c87cbee",
   "metadata": {},
   "outputs": [
    {
     "name": "stdout",
     "output_type": "stream",
     "text": [
      "Help on method backward in module torch._tensor:\n",
      "\n",
      "backward(gradient=None, retain_graph=None, create_graph=False, inputs=None) method of torch.Tensor instance\n",
      "    Computes the gradient of current tensor w.r.t. graph leaves.\n",
      "    \n",
      "    The graph is differentiated using the chain rule. If the tensor is\n",
      "    non-scalar (i.e. its data has more than one element) and requires\n",
      "    gradient, the function additionally requires specifying ``gradient``.\n",
      "    It should be a tensor of matching type and location, that contains\n",
      "    the gradient of the differentiated function w.r.t. ``self``.\n",
      "    \n",
      "    This function accumulates gradients in the leaves - you might need to zero\n",
      "    ``.grad`` attributes or set them to ``None`` before calling it.\n",
      "    See :ref:`Default gradient layouts<default-grad-layouts>`\n",
      "    for details on the memory layout of accumulated gradients.\n",
      "    \n",
      "    .. note::\n",
      "    \n",
      "        If you run any forward ops, create ``gradient``, and/or call ``backward``\n",
      "        in a user-specified CUDA stream context, see\n",
      "        :ref:`Stream semantics of backward passes<bwd-cuda-stream-semantics>`.\n",
      "    \n",
      "    Args:\n",
      "        gradient (Tensor or None): Gradient w.r.t. the\n",
      "            tensor. If it is a tensor, it will be automatically converted\n",
      "            to a Tensor that does not require grad unless ``create_graph`` is True.\n",
      "            None values can be specified for scalar Tensors or ones that\n",
      "            don't require grad. If a None value would be acceptable then\n",
      "            this argument is optional.\n",
      "        retain_graph (bool, optional): If ``False``, the graph used to compute\n",
      "            the grads will be freed. Note that in nearly all cases setting\n",
      "            this option to True is not needed and often can be worked around\n",
      "            in a much more efficient way. Defaults to the value of\n",
      "            ``create_graph``.\n",
      "        create_graph (bool, optional): If ``True``, graph of the derivative will\n",
      "            be constructed, allowing to compute higher order derivative\n",
      "            products. Defaults to ``False``.\n",
      "        inputs (sequence of Tensor): Inputs w.r.t. which the gradient will be\n",
      "            accumulated into ``.grad``. All other Tensors will be ignored. If not\n",
      "            provided, the gradient is accumulated into all the leaf Tensors that were\n",
      "            used to compute the attr::tensors. All the provided inputs must be leaf\n",
      "            Tensors.\n",
      "\n"
     ]
    }
   ],
   "source": [
    "help(loss.backward)"
   ]
  },
  {
   "cell_type": "code",
   "execution_count": 82,
   "id": "d47f2a4e-d0fe-4222-a4a9-27e2bc72a68a",
   "metadata": {},
   "outputs": [
    {
     "data": {
      "text/plain": [
       "tensor([-77.6140, -10.6400])"
      ]
     },
     "execution_count": 82,
     "metadata": {},
     "output_type": "execute_result"
    }
   ],
   "source": [
    "params.grad"
   ]
  },
  {
   "cell_type": "markdown",
   "id": "ceb78a49-b6a8-4b58-b381-5f46a1deb56e",
   "metadata": {},
   "source": [
    "**NOTE: WARNING Calling backward will lead derivatives to accumulate at leaf nodes. We need to zero the gradient explicitly after using it for parameter updates.**\n",
    "\n",
    "If we dont explicitly make the gradients zero they will keep getting summed up."
   ]
  },
  {
   "cell_type": "code",
   "execution_count": 84,
   "id": "cbc8887a-0ed7-4de1-b9b6-d4e54f96882a",
   "metadata": {},
   "outputs": [],
   "source": [
    "def training_loop(epochs, lr, params, t_u, t_c):\n",
    "    for i in range(1, epochs+1):\n",
    "        if params.grad is not None:\n",
    "            params.grad.zero_()\n",
    "        \n",
    "        t_p = model(t_u, *params)\n",
    "        loss = loss_fn(t_p, t_c)\n",
    "        loss.backward()\n",
    "        \n",
    "        with torch.no_grad():\n",
    "            params -= lr*params.grad\n",
    "        \n",
    "        if i%500 == 0:\n",
    "            print(f'Epoch: {i}, Loss: {loss}')\n",
    "    return params"
   ]
  },
  {
   "cell_type": "code",
   "execution_count": 86,
   "id": "d16fd847-e3e2-4f18-870d-5bf8ea010842",
   "metadata": {},
   "outputs": [
    {
     "name": "stdout",
     "output_type": "stream",
     "text": [
      "Epoch: 500, Loss: 7.860115051269531\n",
      "Epoch: 1000, Loss: 3.828537940979004\n",
      "Epoch: 1500, Loss: 3.092191219329834\n",
      "Epoch: 2000, Loss: 2.957697868347168\n",
      "Epoch: 2500, Loss: 2.933133840560913\n",
      "Epoch: 3000, Loss: 2.9286484718322754\n",
      "Epoch: 3500, Loss: 2.9278297424316406\n",
      "Epoch: 4000, Loss: 2.9276793003082275\n",
      "Epoch: 4500, Loss: 2.927651882171631\n",
      "Epoch: 5000, Loss: 2.9276468753814697\n"
     ]
    },
    {
     "data": {
      "text/plain": [
       "tensor([  5.3671, -17.3012], requires_grad=True)"
      ]
     },
     "execution_count": 86,
     "metadata": {},
     "output_type": "execute_result"
    }
   ],
   "source": [
    "training_loop(5000, 1e-2, torch.tensor([1.0,0.0], requires_grad=True), t_u, t_c)"
   ]
  },
  {
   "cell_type": "markdown",
   "id": "8a51a202-fdfc-42bf-972a-9e3aba93a567",
   "metadata": {},
   "source": [
    "## OPTIMIZERS\n",
    "\n",
    "So far we just used vanilaa gradient descent, now lets get into the differeent optimizers that are already a part of pytorch"
   ]
  },
  {
   "cell_type": "code",
   "execution_count": 87,
   "id": "10f6614e-dc73-443a-a822-ae5a9e376820",
   "metadata": {},
   "outputs": [],
   "source": [
    "import torch.optim as optim"
   ]
  },
  {
   "cell_type": "code",
   "execution_count": 88,
   "id": "8ca15a8c-4d45-4431-b7ba-7e2fb7544302",
   "metadata": {},
   "outputs": [
    {
     "data": {
      "text/plain": [
       "['ASGD',\n",
       " 'Adadelta',\n",
       " 'Adagrad',\n",
       " 'Adam',\n",
       " 'AdamW',\n",
       " 'Adamax',\n",
       " 'LBFGS',\n",
       " 'Optimizer',\n",
       " 'RMSprop',\n",
       " 'Rprop',\n",
       " 'SGD',\n",
       " 'SparseAdam',\n",
       " '__builtins__',\n",
       " '__cached__',\n",
       " '__doc__',\n",
       " '__file__',\n",
       " '__loader__',\n",
       " '__name__',\n",
       " '__package__',\n",
       " '__path__',\n",
       " '__spec__',\n",
       " '_functional',\n",
       " '_multi_tensor',\n",
       " 'lr_scheduler',\n",
       " 'swa_utils']"
      ]
     },
     "execution_count": 88,
     "metadata": {},
     "output_type": "execute_result"
    }
   ],
   "source": [
    "dir(optim)"
   ]
  },
  {
   "cell_type": "markdown",
   "id": "e6810a0a-87fc-4dae-b5f6-62615c36f225",
   "metadata": {},
   "source": [
    "### working flow for optimizers\n",
    "<img src='assets/pytorch101_5.6.png' width='750'>\n",
    "\n",
    "\n",
    "Eaach optimizer has the following two fucntions:\n",
    "- zero_grad: zeros the grad attributes of all params\n",
    "- step: updates the value of all params according to the defined strategy"
   ]
  },
  {
   "cell_type": "code",
   "execution_count": 89,
   "id": "497bcc90-106e-4fbe-beb0-42db1ed46649",
   "metadata": {},
   "outputs": [],
   "source": [
    "# creating a gradient descent optim\n",
    "params = torch.tensor([1.0,0.0], requires_grad=True)\n",
    "lr = 1e-5\n",
    "optimizer = optim.SGD([params], lr)"
   ]
  },
  {
   "cell_type": "code",
   "execution_count": 90,
   "id": "f1326ba4-56a9-492b-a105-a9f62f63b1e4",
   "metadata": {},
   "outputs": [
    {
     "name": "stdout",
     "output_type": "stream",
     "text": [
      "Help on class SGD in module torch.optim.sgd:\n",
      "\n",
      "class SGD(torch.optim.optimizer.Optimizer)\n",
      " |  SGD(params, lr=<required parameter>, momentum=0, dampening=0, weight_decay=0, nesterov=False)\n",
      " |  \n",
      " |  Implements stochastic gradient descent (optionally with momentum).\n",
      " |  \n",
      " |  Nesterov momentum is based on the formula from\n",
      " |  `On the importance of initialization and momentum in deep learning`__.\n",
      " |  \n",
      " |  Args:\n",
      " |      params (iterable): iterable of parameters to optimize or dicts defining\n",
      " |          parameter groups\n",
      " |      lr (float): learning rate\n",
      " |      momentum (float, optional): momentum factor (default: 0)\n",
      " |      weight_decay (float, optional): weight decay (L2 penalty) (default: 0)\n",
      " |      dampening (float, optional): dampening for momentum (default: 0)\n",
      " |      nesterov (bool, optional): enables Nesterov momentum (default: False)\n",
      " |  \n",
      " |  Example:\n",
      " |      >>> optimizer = torch.optim.SGD(model.parameters(), lr=0.1, momentum=0.9)\n",
      " |      >>> optimizer.zero_grad()\n",
      " |      >>> loss_fn(model(input), target).backward()\n",
      " |      >>> optimizer.step()\n",
      " |  \n",
      " |  __ http://www.cs.toronto.edu/%7Ehinton/absps/momentum.pdf\n",
      " |  \n",
      " |  .. note::\n",
      " |      The implementation of SGD with Momentum/Nesterov subtly differs from\n",
      " |      Sutskever et. al. and implementations in some other frameworks.\n",
      " |  \n",
      " |      Considering the specific case of Momentum, the update can be written as\n",
      " |  \n",
      " |      .. math::\n",
      " |          \\begin{aligned}\n",
      " |              v_{t+1} & = \\mu * v_{t} + g_{t+1}, \\\\\n",
      " |              p_{t+1} & = p_{t} - \\text{lr} * v_{t+1},\n",
      " |          \\end{aligned}\n",
      " |  \n",
      " |      where :math:`p`, :math:`g`, :math:`v` and :math:`\\mu` denote the\n",
      " |      parameters, gradient, velocity, and momentum respectively.\n",
      " |  \n",
      " |      This is in contrast to Sutskever et. al. and\n",
      " |      other frameworks which employ an update of the form\n",
      " |  \n",
      " |      .. math::\n",
      " |          \\begin{aligned}\n",
      " |              v_{t+1} & = \\mu * v_{t} + \\text{lr} * g_{t+1}, \\\\\n",
      " |              p_{t+1} & = p_{t} - v_{t+1}.\n",
      " |          \\end{aligned}\n",
      " |  \n",
      " |      The Nesterov version is analogously modified.\n",
      " |  \n",
      " |  Method resolution order:\n",
      " |      SGD\n",
      " |      torch.optim.optimizer.Optimizer\n",
      " |      builtins.object\n",
      " |  \n",
      " |  Methods defined here:\n",
      " |  \n",
      " |  __init__(self, params, lr=<required parameter>, momentum=0, dampening=0, weight_decay=0, nesterov=False)\n",
      " |      Initialize self.  See help(type(self)) for accurate signature.\n",
      " |  \n",
      " |  __setstate__(self, state)\n",
      " |  \n",
      " |  step(self, closure=None)\n",
      " |      Performs a single optimization step.\n",
      " |      \n",
      " |      Args:\n",
      " |          closure (callable, optional): A closure that reevaluates the model\n",
      " |              and returns the loss.\n",
      " |  \n",
      " |  ----------------------------------------------------------------------\n",
      " |  Methods inherited from torch.optim.optimizer.Optimizer:\n",
      " |  \n",
      " |  __getstate__(self)\n",
      " |  \n",
      " |  __repr__(self)\n",
      " |      Return repr(self).\n",
      " |  \n",
      " |  add_param_group(self, param_group)\n",
      " |      Add a param group to the :class:`Optimizer` s `param_groups`.\n",
      " |      \n",
      " |      This can be useful when fine tuning a pre-trained network as frozen layers can be made\n",
      " |      trainable and added to the :class:`Optimizer` as training progresses.\n",
      " |      \n",
      " |      Args:\n",
      " |          param_group (dict): Specifies what Tensors should be optimized along with group\n",
      " |          specific optimization options.\n",
      " |  \n",
      " |  load_state_dict(self, state_dict)\n",
      " |      Loads the optimizer state.\n",
      " |      \n",
      " |      Args:\n",
      " |          state_dict (dict): optimizer state. Should be an object returned\n",
      " |              from a call to :meth:`state_dict`.\n",
      " |  \n",
      " |  state_dict(self)\n",
      " |      Returns the state of the optimizer as a :class:`dict`.\n",
      " |      \n",
      " |      It contains two entries:\n",
      " |      \n",
      " |      * state - a dict holding current optimization state. Its content\n",
      " |          differs between optimizer classes.\n",
      " |      * param_groups - a dict containing all parameter groups\n",
      " |  \n",
      " |  zero_grad(self, set_to_none: bool = False)\n",
      " |      Sets the gradients of all optimized :class:`torch.Tensor` s to zero.\n",
      " |      \n",
      " |      Args:\n",
      " |          set_to_none (bool): instead of setting to zero, set the grads to None.\n",
      " |              This will in general have lower memory footprint, and can modestly improve performance.\n",
      " |              However, it changes certain behaviors. For example:\n",
      " |              1. When the user tries to access a gradient and perform manual ops on it,\n",
      " |              a None attribute or a Tensor full of 0s will behave differently.\n",
      " |              2. If the user requests ``zero_grad(set_to_none=True)`` followed by a backward pass, ``.grad``\\ s\n",
      " |              are guaranteed to be None for params that did not receive a gradient.\n",
      " |              3. ``torch.optim`` optimizers have a different behavior if the gradient is 0 or None\n",
      " |              (in one case it does the step with a gradient of 0 and in the other it skips\n",
      " |              the step altogether).\n",
      " |  \n",
      " |  ----------------------------------------------------------------------\n",
      " |  Data descriptors inherited from torch.optim.optimizer.Optimizer:\n",
      " |  \n",
      " |  __dict__\n",
      " |      dictionary for instance variables (if defined)\n",
      " |  \n",
      " |  __weakref__\n",
      " |      list of weak references to the object (if defined)\n",
      "\n"
     ]
    }
   ],
   "source": [
    "help(optim.SGD)"
   ]
  },
  {
   "cell_type": "code",
   "execution_count": 91,
   "id": "c6f59d38-0259-40f9-a672-1e94a6c157c6",
   "metadata": {},
   "outputs": [],
   "source": [
    "t_p = model(t_u, *params)\n",
    "loss = loss_fn(t_p, t_c)\n",
    "loss.backward()\n",
    "optimizer.step()"
   ]
  },
  {
   "cell_type": "code",
   "execution_count": 92,
   "id": "ea8ec17f-9e19-41c9-93ad-2daef986c209",
   "metadata": {},
   "outputs": [
    {
     "data": {
      "text/plain": [
       "tensor([1.0008e+00, 1.0640e-04], requires_grad=True)"
      ]
     },
     "execution_count": 92,
     "metadata": {},
     "output_type": "execute_result"
    }
   ],
   "source": [
    "params"
   ]
  },
  {
   "cell_type": "code",
   "execution_count": 94,
   "id": "511835a3-43a1-45d4-8959-7dfe746e013e",
   "metadata": {},
   "outputs": [],
   "source": [
    "def training_loop(epochs, lr, optimizer, params, t_u, t_c):\n",
    "    for i in range(1, epochs+1):\n",
    "        t_p = model(t_u, *params)\n",
    "        loss = loss_fn(t_p,t_c)\n",
    "        optimizer.zero_grad()\n",
    "        \n",
    "        loss.backward()\n",
    "        optimizer.step()\n",
    "        \n",
    "        if i%500 == 0:\n",
    "            print(f\"Epochs: {i}, Loss: {loss}\")\n",
    "            \n",
    "    return params"
   ]
  },
  {
   "cell_type": "code",
   "execution_count": 95,
   "id": "040065cb-d38b-4f1e-84a6-379eed77f5c5",
   "metadata": {},
   "outputs": [
    {
     "name": "stdout",
     "output_type": "stream",
     "text": [
      "Epochs: 500, Loss: 7.860115051269531\n",
      "Epochs: 1000, Loss: 3.828537940979004\n",
      "Epochs: 1500, Loss: 3.092191219329834\n",
      "Epochs: 2000, Loss: 2.957697868347168\n",
      "Epochs: 2500, Loss: 2.933133840560913\n",
      "Epochs: 3000, Loss: 2.9286484718322754\n",
      "Epochs: 3500, Loss: 2.9278297424316406\n",
      "Epochs: 4000, Loss: 2.9276793003082275\n",
      "Epochs: 4500, Loss: 2.927651882171631\n",
      "Epochs: 5000, Loss: 2.9276468753814697\n"
     ]
    },
    {
     "data": {
      "text/plain": [
       "tensor([  5.3671, -17.3012], requires_grad=True)"
      ]
     },
     "execution_count": 95,
     "metadata": {},
     "output_type": "execute_result"
    }
   ],
   "source": [
    "params = torch.tensor([1.0,0.0], requires_grad=True)\n",
    "lr = 1e-2\n",
    "optmizer = optim.SGD([params],lr)\n",
    "training_loop(5000, lr, optmizer, params, t_u, t_c)"
   ]
  },
  {
   "cell_type": "markdown",
   "id": "d070c7da-6533-490e-99b5-fc2b8ac1e382",
   "metadata": {},
   "source": [
    "### Other Optimizers"
   ]
  },
  {
   "cell_type": "code",
   "execution_count": 96,
   "id": "32b2568d-3dd5-4107-ae15-0b47090818fe",
   "metadata": {},
   "outputs": [],
   "source": [
    "optimizer = optim.Adam([params], lr)"
   ]
  },
  {
   "cell_type": "code",
   "execution_count": 97,
   "id": "0eb5150d-f08c-4575-af8e-63a954942c07",
   "metadata": {},
   "outputs": [
    {
     "name": "stdout",
     "output_type": "stream",
     "text": [
      "Epochs: 500, Loss: 2.9276466369628906\n",
      "Epochs: 1000, Loss: 2.9276468753814697\n",
      "Epochs: 1500, Loss: 2.927645206451416\n",
      "Epochs: 2000, Loss: 2.927645206451416\n",
      "Epochs: 2500, Loss: 2.927645206451416\n",
      "Epochs: 3000, Loss: 2.927645206451416\n",
      "Epochs: 3500, Loss: 2.927645206451416\n",
      "Epochs: 4000, Loss: 2.927645206451416\n",
      "Epochs: 4500, Loss: 2.927645206451416\n",
      "Epochs: 5000, Loss: 2.927645206451416\n"
     ]
    },
    {
     "data": {
      "text/plain": [
       "tensor([  5.3676, -17.3042], requires_grad=True)"
      ]
     },
     "execution_count": 97,
     "metadata": {},
     "output_type": "execute_result"
    }
   ],
   "source": [
    "training_loop(5000, lr, optmizer, params, t_u, t_c)"
   ]
  },
  {
   "cell_type": "markdown",
   "id": "5e9279e6-2e48-4128-b95b-d991b7b2a39c",
   "metadata": {},
   "source": [
    "- rule 1: if the training loss is not decreasing, chances are the model is too simple for the data\n",
    "- rule 2: if the training loss and the validation loss diverge, we’re overfitting."
   ]
  },
  {
   "cell_type": "markdown",
   "id": "6399a942-c0a1-4ce1-91c5-11768b0faeb3",
   "metadata": {},
   "source": [
    "## Data Splitting"
   ]
  },
  {
   "cell_type": "code",
   "execution_count": 99,
   "id": "4787b9c8-8959-49b6-8df6-d79bed43c78e",
   "metadata": {},
   "outputs": [],
   "source": [
    "n_samples = t_u.shape[0]\n",
    "n_val = int(0.2 * n_samples)"
   ]
  },
  {
   "cell_type": "code",
   "execution_count": 101,
   "id": "0065bab0-7da5-446e-9e4c-17110f1a5837",
   "metadata": {},
   "outputs": [],
   "source": [
    "shuffled_indices = torch.randperm(n_samples)"
   ]
  },
  {
   "cell_type": "code",
   "execution_count": 102,
   "id": "aff726c3-9494-408b-936f-90ab48dccca0",
   "metadata": {},
   "outputs": [
    {
     "data": {
      "text/plain": [
       "tensor([ 3,  1,  2,  9,  4,  8,  6, 10,  7,  0,  5])"
      ]
     },
     "execution_count": 102,
     "metadata": {},
     "output_type": "execute_result"
    }
   ],
   "source": [
    "shuffled_indices"
   ]
  },
  {
   "cell_type": "code",
   "execution_count": 103,
   "id": "69012439-4792-40cd-a382-1e405d348a6e",
   "metadata": {},
   "outputs": [
    {
     "name": "stdout",
     "output_type": "stream",
     "text": [
      "Help on built-in function randperm:\n",
      "\n",
      "randperm(...)\n",
      "    randperm(n, *, generator=None, out=None, dtype=torch.int64,layout=torch.strided, device=None, requires_grad=False, pin_memory=False) -> Tensor\n",
      "    \n",
      "    Returns a random permutation of integers from ``0`` to ``n - 1``.\n",
      "    \n",
      "    Args:\n",
      "        n (int): the upper bound (exclusive)\n",
      "    \n",
      "    Keyword args:\n",
      "        generator (:class:`torch.Generator`, optional): a pseudorandom number generator for sampling\n",
      "        out (Tensor, optional): the output tensor.\n",
      "        dtype (:class:`torch.dtype`, optional): the desired data type of returned tensor.\n",
      "            Default: ``torch.int64``.\n",
      "        layout (:class:`torch.layout`, optional): the desired layout of returned Tensor.\n",
      "            Default: ``torch.strided``.\n",
      "        device (:class:`torch.device`, optional): the desired device of returned tensor.\n",
      "            Default: if ``None``, uses the current device for the default tensor type\n",
      "            (see :func:`torch.set_default_tensor_type`). :attr:`device` will be the CPU\n",
      "            for CPU tensor types and the current CUDA device for CUDA tensor types.\n",
      "        requires_grad (bool, optional): If autograd should record operations on the\n",
      "            returned tensor. Default: ``False``.\n",
      "        pin_memory (bool, optional): If set, returned tensor would be allocated in\n",
      "            the pinned memory. Works only for CPU tensors. Default: ``False``.\n",
      "    \n",
      "    Example::\n",
      "    \n",
      "        >>> torch.randperm(4)\n",
      "        tensor([2, 1, 0, 3])\n",
      "\n"
     ]
    }
   ],
   "source": [
    "help(torch.randperm)"
   ]
  },
  {
   "cell_type": "code",
   "execution_count": 104,
   "id": "e764faf0-e30f-4014-8c82-8a7a4c86a35f",
   "metadata": {},
   "outputs": [],
   "source": [
    "train_indices = shuffled_indices[:-n_val]\n",
    "val_indices = shuffled_indices[-n_val:]"
   ]
  },
  {
   "cell_type": "code",
   "execution_count": 105,
   "id": "96c9cda8-9a3c-47d0-8363-53f1ae78cc8f",
   "metadata": {},
   "outputs": [
    {
     "data": {
      "text/plain": [
       "(tensor([ 3,  1,  2,  9,  4,  8,  6, 10,  7]), tensor([0, 5]))"
      ]
     },
     "execution_count": 105,
     "metadata": {},
     "output_type": "execute_result"
    }
   ],
   "source": [
    "train_indices, val_indices"
   ]
  },
  {
   "cell_type": "code",
   "execution_count": 106,
   "id": "434d2bb0-8fb1-41aa-a41d-a204ea796e4e",
   "metadata": {},
   "outputs": [],
   "source": [
    "train_t_u = t_u[train_indices]\n",
    "train_t_c = t_c[train_indices]\n",
    "\n",
    "val_t_u = t_u[val_indices]\n",
    "val_t_c = t_c[val_indices]"
   ]
  },
  {
   "cell_type": "code",
   "execution_count": 107,
   "id": "0953c491-73a9-4705-a666-37d88bebe80e",
   "metadata": {},
   "outputs": [
    {
     "data": {
      "text/plain": [
       "tensor([8.1900, 5.5900, 5.8200, 6.0400, 5.6300, 4.8400, 3.3900, 6.8400, 2.1800])"
      ]
     },
     "execution_count": 107,
     "metadata": {},
     "output_type": "execute_result"
    }
   ],
   "source": [
    "train_t_u"
   ]
  },
  {
   "cell_type": "code",
   "execution_count": 117,
   "id": "ea0101c1-7416-49da-8d66-cb81a020b995",
   "metadata": {},
   "outputs": [],
   "source": [
    "def training_loop(epochs, optimizwer, params, train_t_u, val_t_u, train_t_c, val_t_c):\n",
    "    for i in range(1, epochs+1):\n",
    "        train_t_p = model(train_t_u, *params)\n",
    "        train_loss = loss_fn(train_t_p, train_t_c)\n",
    "        \n",
    "        val_t_p = model(val_t_u, *params)\n",
    "        val_loss = loss_fn(val_t_p, val_t_c)\n",
    "        \n",
    "        optimizer.zero_grad()\n",
    "        # backward only on train loss, as we want to only use train set for learning\n",
    "        train_loss.backward()\n",
    "        optimizer.step()\n",
    "        \n",
    "        if i<5 or i%500 ==0:\n",
    "            print(f\"Epochs: {i}, TrainLoss: {train_loss}, ValLoss: {val_loss}\")\n",
    "            \n",
    "    return params"
   ]
  },
  {
   "cell_type": "code",
   "execution_count": 115,
   "id": "b06f11fe-2f1b-4e6b-81dc-f0e868a02827",
   "metadata": {},
   "outputs": [],
   "source": [
    "params = torch.tensor([1.0, 0.0], requires_grad=True) \n",
    "learning_rate = 1e-2\n",
    "optimizer = optim.SGD([params], lr=learning_rate)"
   ]
  },
  {
   "cell_type": "code",
   "execution_count": 116,
   "id": "2f3f4dd6-7665-4c1b-8fe5-43c423101a3a",
   "metadata": {},
   "outputs": [
    {
     "name": "stdout",
     "output_type": "stream",
     "text": [
      "Epochs: 1, TrainLoss: 96.1011962890625, ValLoss: 9.548500061035156\n",
      "Epochs: 2, TrainLoss: 35.651126861572266, ValLoss: 22.76980972290039\n",
      "Epochs: 3, TrainLoss: 28.411394119262695, ValLoss: 35.22337341308594\n",
      "Epochs: 4, TrainLoss: 27.479955673217773, ValLoss: 40.37754440307617\n",
      "Epochs: 500, TrainLoss: 7.592894554138184, ValLoss: 13.721182823181152\n",
      "Epochs: 1000, TrainLoss: 3.968079090118408, ValLoss: 6.107083797454834\n",
      "Epochs: 1500, TrainLoss: 3.3146064281463623, ValLoss: 3.8030853271484375\n",
      "Epochs: 2000, TrainLoss: 3.19680118560791, ValLoss: 2.992271661758423\n",
      "Epochs: 2500, TrainLoss: 3.1755611896514893, ValLoss: 2.678205966949463\n",
      "Epochs: 3000, TrainLoss: 3.17173171043396, ValLoss: 2.5503103733062744\n"
     ]
    },
    {
     "data": {
      "text/plain": [
       "tensor([  5.2345, -16.3226], requires_grad=True)"
      ]
     },
     "execution_count": 116,
     "metadata": {},
     "output_type": "execute_result"
    }
   ],
   "source": [
    "training_loop(3000, optimizer, params=params, train_t_u=train_t_u, val_t_u=val_t_u, train_t_c=train_t_c, val_t_c=val_t_c)"
   ]
  },
  {
   "cell_type": "markdown",
   "id": "e087e479-091e-4bf2-b1d4-04d121580fe0",
   "metadata": {},
   "source": [
    "<img src='assets/pytorch101_5.7.png' width='750'>"
   ]
  },
  {
   "cell_type": "markdown",
   "id": "dd4ae484-6e4b-496d-9c8e-fb2ce596234d",
   "metadata": {},
   "source": [
    "<img src='assets/pytorch101_5.8.png' width='750'>\n",
    "The only tensors these two graphs have in common are the parameters. When we call backward on train_loss, we run backward on the first graph. In other words, we accumulate the derivatives of train_loss with respect to the parameters based on the computation generated from train_t_u."
   ]
  },
  {
   "cell_type": "code",
   "execution_count": null,
   "id": "100830a9-6683-4b26-b121-80d59c539fc9",
   "metadata": {},
   "outputs": [],
   "source": [
    "def training_loop(n_epochs, optimizer, params, train_t_u, val_t_u,\n",
    "                  train_t_c, val_t_c):\n",
    "    for epoch in range(1, n_epochs + 1):\n",
    "        train_t_p = model(train_t_u, *params)\n",
    "        train_loss = loss_fn(train_t_p, train_t_c)\n",
    "        with torch.no_grad():\n",
    "            val_t_p = model(val_t_u, *params)\n",
    "            val_loss = loss_fn(val_t_p, val_t_c)\n",
    "            assert val_loss.requires_grad == False\n",
    "        optimizer.zero_grad()\n",
    "        train_loss.backward()\n",
    "        optimizer.step()"
   ]
  },
  {
   "cell_type": "code",
   "execution_count": null,
   "id": "f7f4d47b-a5c5-47bb-8dbb-7efd5f104596",
   "metadata": {},
   "outputs": [],
   "source": []
  },
  {
   "cell_type": "code",
   "execution_count": null,
   "id": "f7304a07-0a6f-4a46-bc0f-bd3142a8a29e",
   "metadata": {},
   "outputs": [],
   "source": []
  },
  {
   "cell_type": "code",
   "execution_count": null,
   "id": "fc764f1a-6d1e-4fdb-9342-37411c19f83f",
   "metadata": {},
   "outputs": [],
   "source": []
  },
  {
   "cell_type": "code",
   "execution_count": null,
   "id": "ba643489-6eac-4f4e-985e-e1c68008555a",
   "metadata": {},
   "outputs": [],
   "source": []
  }
 ],
 "metadata": {
  "kernelspec": {
   "display_name": "pytorch",
   "language": "python",
   "name": "pytorch"
  },
  "language_info": {
   "codemirror_mode": {
    "name": "ipython",
    "version": 3
   },
   "file_extension": ".py",
   "mimetype": "text/x-python",
   "name": "python",
   "nbconvert_exporter": "python",
   "pygments_lexer": "ipython3",
   "version": "3.9.5"
  }
 },
 "nbformat": 4,
 "nbformat_minor": 5
}
